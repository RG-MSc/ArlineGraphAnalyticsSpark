{
 "cells": [
  {
   "cell_type": "markdown",
   "metadata": {},
   "source": [
    "## Flight Data Analysis using Spark GraphFrames"
   ]
  },
  {
   "cell_type": "code",
   "execution_count": 1,
   "metadata": {},
   "outputs": [
    {
     "data": {
      "text/plain": [
       "[('spark.app.id', 'local-1573842681666'),\n",
       " ('spark.driver.memory', '4g'),\n",
       " ('spark.executor.memory', '4g'),\n",
       " ('spark.executor.id', 'driver'),\n",
       " ('spark.driver.port', '50706'),\n",
       " ('spark.executor.cores', '4'),\n",
       " ('spark.cores.max', '4'),\n",
       " ('spark.driver.host', 'DESKTOP-RV4I2EU'),\n",
       " ('spark.app.name', 'Spark Updated Conf'),\n",
       " ('spark.rdd.compress', 'True'),\n",
       " ('spark.serializer.objectStreamReset', '100'),\n",
       " ('spark.master', 'local[*]'),\n",
       " ('spark.submit.deployMode', 'client'),\n",
       " ('spark.ui.showConsoleProgress', 'true')]"
      ]
     },
     "execution_count": 1,
     "metadata": {},
     "output_type": "execute_result"
    }
   ],
   "source": [
    "from pyspark.sql import SparkSession\n",
    "import pyspark.sql.functions as F\n",
    "from pyspark.sql.functions import col\n",
    "\n",
    "spark = SparkSession.builder.appName('GraphFlightsAnalysis').getOrCreate()\n",
    "\n",
    "\n",
    "#change configuration settings on Spark \n",
    "conf = spark.sparkContext._conf.setAll([('spark.executor.memory', '4g'), ('spark.app.name', 'Spark Updated Conf'), ('spark.executor.cores', '4'), ('spark.cores.max', '4'), ('spark.driver.memory','4g')])\n",
    "\n",
    "#print spark configuration settings\n",
    "spark.sparkContext.getConf().getAll()"
   ]
  },
  {
   "cell_type": "code",
   "execution_count": 3,
   "metadata": {},
   "outputs": [
    {
     "name": "stdout",
     "output_type": "stream",
     "text": [
      "+----------+-----------+-------------+----+---+--------+----+------------+-----------+--------------------+--------+-----------------+\n",
      "|Airport ID|       City|      Country|DBTZ|DST|IATA/FAA|ICAO|    Latitude|  Longitude|                Name|Timezone|     destinations|\n",
      "+----------+-----------+-------------+----+---+--------+----+------------+-----------+--------------------+--------+-----------------+\n",
      "|      7252|  Postville|       Canada|   A| -4|     YSO|CCD4|   54.910278| -59.785278|   Postville Airport|     223|[5492, 188, 5502]|\n",
      "|      6972|      Osubi|      Nigeria|   U|  1|     QRW|DNSU|        5.31|       5.45|       Warri Airport|      50|       [260, 273]|\n",
      "|      4026|   Rockland|United States|   A| -5|     RKD|KRKD|  44.0601111|-69.0992303|Knox County Regio...|      56|           [3448]|\n",
      "|      4027|Jacksn Hole|United States|   A| -7|     JAC|KJAC|43.607333333| -110.73775|Jackson Hole Airport|    6451|     [3536, 3751]|\n",
      "|      4024|     Flores|    Guatemala|   U| -6|     FRS|MGTK|   16.913819| -89.866383|Mundo Maya Intern...|     427|     [1957, 1767]|\n",
      "+----------+-----------+-------------+----+---+--------+----+------------+-----------+--------------------+--------+-----------------+\n",
      "only showing top 5 rows\n",
      "\n"
     ]
    }
   ],
   "source": [
    "dataDir = \".\"\n",
    "airports = spark.read.json(dataDir+\"//airports1.json\", multiLine=True)\n",
    "airports.show(5)"
   ]
  },
  {
   "cell_type": "code",
   "execution_count": 4,
   "metadata": {},
   "outputs": [
    {
     "name": "stdout",
     "output_type": "stream",
     "text": [
      "+-----------+-------------+--------------------+--------+\n",
      "|       City|      Country|                Name|IATA/FAA|\n",
      "+-----------+-------------+--------------------+--------+\n",
      "|  Postville|       Canada|   Postville Airport|     YSO|\n",
      "|      Osubi|      Nigeria|       Warri Airport|     QRW|\n",
      "|   Rockland|United States|Knox County Regio...|     RKD|\n",
      "|Jacksn Hole|United States|Jackson Hole Airport|     JAC|\n",
      "|     Flores|    Guatemala|Mundo Maya Intern...|     FRS|\n",
      "+-----------+-------------+--------------------+--------+\n",
      "only showing top 5 rows\n",
      "\n"
     ]
    }
   ],
   "source": [
    "airports = airports.select(\"City\", \"Country\", \"Name\", \"IATA/FAA\")\n",
    "airports.show(5)"
   ]
  },
  {
   "cell_type": "code",
   "execution_count": 5,
   "metadata": {},
   "outputs": [
    {
     "name": "stdout",
     "output_type": "stream",
     "text": [
      "+----+-----+----------+---------+-------+----------+-------+----------+-------------+---------+-------+-----------------+--------------+-------+--------+--------+------+----+--------+------+-------+---------+----------------+--------+------------+------------+--------+-------------+-----------------+\n",
      "|Year|Month|DayofMonth|DayOfWeek|DepTime|CRSDepTime|ArrTime|CRSArrTime|UniqueCarrier|FlightNum|TailNum|ActualElapsedTime|CRSElapsedTime|AirTime|ArrDelay|DepDelay|Origin|Dest|Distance|TaxiIn|TaxiOut|Cancelled|CancellationCode|Diverted|CarrierDelay|WeatherDelay|NASDelay|SecurityDelay|LateAircraftDelay|\n",
      "+----+-----+----------+---------+-------+----------+-------+----------+-------------+---------+-------+-----------------+--------------+-------+--------+--------+------+----+--------+------+-------+---------+----------------+--------+------------+------------+--------+-------------+-----------------+\n",
      "|2008|    1|         3|        4|   2003|      1955|   2211|      2225|           WN|      335| N712SW|              128|           150|    116|     -14|       8|   IAD| TPA|     810|     4|      8|        0|            null|       0|          NA|          NA|      NA|           NA|               NA|\n",
      "|2008|    1|         3|        4|    754|       735|   1002|      1000|           WN|     3231| N772SW|              128|           145|    113|       2|      19|   IAD| TPA|     810|     5|     10|        0|            null|       0|          NA|          NA|      NA|           NA|               NA|\n",
      "|2008|    1|         3|        4|    628|       620|    804|       750|           WN|      448| N428WN|               96|            90|     76|      14|       8|   IND| BWI|     515|     3|     17|        0|            null|       0|          NA|          NA|      NA|           NA|               NA|\n",
      "|2008|    1|         3|        4|    926|       930|   1054|      1100|           WN|     1746| N612SW|               88|            90|     78|      -6|      -4|   IND| BWI|     515|     3|      7|        0|            null|       0|          NA|          NA|      NA|           NA|               NA|\n",
      "|2008|    1|         3|        4|   1829|      1755|   1959|      1925|           WN|     3920| N464WN|               90|            90|     77|      34|      34|   IND| BWI|     515|     3|     10|        0|            null|       0|           2|           0|       0|            0|               32|\n",
      "+----+-----+----------+---------+-------+----------+-------+----------+-------------+---------+-------+-----------------+--------------+-------+--------+--------+------+----+--------+------+-------+---------+----------------+--------+------------+------------+--------+-------------+-----------------+\n",
      "only showing top 5 rows\n",
      "\n"
     ]
    }
   ],
   "source": [
    "flights = spark.read.csv(dataDir+\"//flights.csv\", header=True, inferSchema=True)\n",
    "flights.show(5)"
   ]
  },
  {
   "cell_type": "code",
   "execution_count": 6,
   "metadata": {},
   "outputs": [
    {
     "name": "stdout",
     "output_type": "stream",
     "text": [
      "+---------+------+----+--------+----+-----+-------+-------+--------+-----------------+-------+\n",
      "|FlightNum|Origin|Dest|Distance|Year|Month|DepTime|ArrTime|DepDelay|ActualElapsedTime|AirTime|\n",
      "+---------+------+----+--------+----+-----+-------+-------+--------+-----------------+-------+\n",
      "|      335|   IAD| TPA|     810|2008|    1|   2003|   2211|       8|              128|    116|\n",
      "|     3231|   IAD| TPA|     810|2008|    1|    754|   1002|      19|              128|    113|\n",
      "|      448|   IND| BWI|     515|2008|    1|    628|    804|       8|               96|     76|\n",
      "|     1746|   IND| BWI|     515|2008|    1|    926|   1054|      -4|               88|     78|\n",
      "|     3920|   IND| BWI|     515|2008|    1|   1829|   1959|      34|               90|     77|\n",
      "+---------+------+----+--------+----+-----+-------+-------+--------+-----------------+-------+\n",
      "only showing top 5 rows\n",
      "\n"
     ]
    }
   ],
   "source": [
    "flights = flights.select(\"FlightNum\", \"Origin\", \"Dest\",\"Distance\", \"Year\" ,\"Month\", \"DepTime\", \"ArrTime\", \"DepDelay\", \"ActualElapsedTime\", \"AirTime\")\n",
    "flights.show(5)"
   ]
  },
  {
   "cell_type": "code",
   "execution_count": 7,
   "metadata": {},
   "outputs": [
    {
     "name": "stdout",
     "output_type": "stream",
     "text": [
      "root\n",
      " |-- FlightNum: integer (nullable = true)\n",
      " |-- Origin: string (nullable = true)\n",
      " |-- Dest: string (nullable = true)\n",
      " |-- Distance: integer (nullable = true)\n",
      " |-- Year: integer (nullable = true)\n",
      " |-- Month: integer (nullable = true)\n",
      " |-- DepTime: string (nullable = true)\n",
      " |-- ArrTime: string (nullable = true)\n",
      " |-- DepDelay: string (nullable = true)\n",
      " |-- ActualElapsedTime: string (nullable = true)\n",
      " |-- AirTime: string (nullable = true)\n",
      "\n"
     ]
    }
   ],
   "source": [
    "flights.printSchema()"
   ]
  },
  {
   "cell_type": "code",
   "execution_count": 8,
   "metadata": {},
   "outputs": [],
   "source": [
    "from pyspark.sql.types import IntegerType\n",
    "flights = flights.withColumn(\"DepDelay\", flights.DepDelay.cast(IntegerType()))"
   ]
  },
  {
   "cell_type": "markdown",
   "metadata": {},
   "source": [
    "Lets create a graph with airports as vertices and flights as edges\n",
    "\n",
    "**Vertex DataFrame:**\n",
    "\n",
    "We set a special column named “id” which specifies unique IDs for each vertex in the graph.\n",
    "\n",
    "**Edge DataFrame:** \n",
    "\n",
    "We set id columns: “src” (source vertex ID of edge) and “dst” (destination vertex ID of edge)."
   ]
  },
  {
   "cell_type": "code",
   "execution_count": 9,
   "metadata": {},
   "outputs": [],
   "source": [
    "airports = airports.withColumn(\"id\",airports[\"IATA/FAA\"])\n",
    "\n",
    "flights = flights.withColumn(\"src\", flights[\"Origin\"])\n",
    "flights = flights.withColumn(\"dst\", flights[\"Dest\"])"
   ]
  },
  {
   "cell_type": "code",
   "execution_count": 10,
   "metadata": {},
   "outputs": [],
   "source": [
    "from graphframes import *"
   ]
  },
  {
   "cell_type": "code",
   "execution_count": 11,
   "metadata": {},
   "outputs": [],
   "source": [
    "#build Graph - GraphFrame(vertices, edges)\n",
    "graph = GraphFrame(airports, flights)"
   ]
  },
  {
   "cell_type": "code",
   "execution_count": 12,
   "metadata": {},
   "outputs": [
    {
     "name": "stdout",
     "output_type": "stream",
     "text": [
      "+-----------+-------------+--------------------+--------+---+\n",
      "|       City|      Country|                Name|IATA/FAA| id|\n",
      "+-----------+-------------+--------------------+--------+---+\n",
      "|  Postville|       Canada|   Postville Airport|     YSO|YSO|\n",
      "|      Osubi|      Nigeria|       Warri Airport|     QRW|QRW|\n",
      "|   Rockland|United States|Knox County Regio...|     RKD|RKD|\n",
      "|Jacksn Hole|United States|Jackson Hole Airport|     JAC|JAC|\n",
      "|     Flores|    Guatemala|Mundo Maya Intern...|     FRS|FRS|\n",
      "+-----------+-------------+--------------------+--------+---+\n",
      "only showing top 5 rows\n",
      "\n"
     ]
    }
   ],
   "source": [
    "graph.vertices.show(5)"
   ]
  },
  {
   "cell_type": "code",
   "execution_count": 13,
   "metadata": {},
   "outputs": [
    {
     "name": "stdout",
     "output_type": "stream",
     "text": [
      "+---------+------+----+--------+----+-----+-------+-------+--------+-----------------+-------+---+---+\n",
      "|FlightNum|Origin|Dest|Distance|Year|Month|DepTime|ArrTime|DepDelay|ActualElapsedTime|AirTime|src|dst|\n",
      "+---------+------+----+--------+----+-----+-------+-------+--------+-----------------+-------+---+---+\n",
      "|      335|   IAD| TPA|     810|2008|    1|   2003|   2211|       8|              128|    116|IAD|TPA|\n",
      "|     3231|   IAD| TPA|     810|2008|    1|    754|   1002|      19|              128|    113|IAD|TPA|\n",
      "|      448|   IND| BWI|     515|2008|    1|    628|    804|       8|               96|     76|IND|BWI|\n",
      "|     1746|   IND| BWI|     515|2008|    1|    926|   1054|      -4|               88|     78|IND|BWI|\n",
      "|     3920|   IND| BWI|     515|2008|    1|   1829|   1959|      34|               90|     77|IND|BWI|\n",
      "+---------+------+----+--------+----+-----+-------+-------+--------+-----------------+-------+---+---+\n",
      "only showing top 5 rows\n",
      "\n"
     ]
    }
   ],
   "source": [
    "graph.edges.show(5)"
   ]
  },
  {
   "cell_type": "code",
   "execution_count": 14,
   "metadata": {},
   "outputs": [
    {
     "data": {
      "text/plain": [
       "3266"
      ]
     },
     "execution_count": 14,
     "metadata": {},
     "output_type": "execute_result"
    }
   ],
   "source": [
    "#How many airports?\n",
    "graph.vertices.count()"
   ]
  },
  {
   "cell_type": "code",
   "execution_count": 15,
   "metadata": {},
   "outputs": [
    {
     "data": {
      "text/plain": [
       "100000"
      ]
     },
     "execution_count": 15,
     "metadata": {},
     "output_type": "execute_result"
    }
   ],
   "source": [
    "#How many flights?\n",
    "graph.edges.count()"
   ]
  },
  {
   "cell_type": "code",
   "execution_count": 16,
   "metadata": {},
   "outputs": [
    {
     "name": "stdout",
     "output_type": "stream",
     "text": [
      "+---+------+\n",
      "| id|degree|\n",
      "+---+------+\n",
      "|LAS| 13551|\n",
      "|MDW| 12587|\n",
      "|PHX| 11081|\n",
      "|BWI|  9269|\n",
      "|OAK|  7865|\n",
      "|HOU|  7723|\n",
      "|DAL|  7119|\n",
      "|LAX|  6751|\n",
      "|SAN|  6671|\n",
      "|MCO|  6568|\n",
      "+---+------+\n",
      "only showing top 10 rows\n",
      "\n"
     ]
    }
   ],
   "source": [
    "#Most connected airports\n",
    "graph.degrees.orderBy(\"degree\", ascending=False).show(10)"
   ]
  },
  {
   "cell_type": "code",
   "execution_count": 17,
   "metadata": {},
   "outputs": [
    {
     "name": "stdout",
     "output_type": "stream",
     "text": [
      "+-------+-------------+-------------------+--------+---+\n",
      "|   City|      Country|               Name|IATA/FAA| id|\n",
      "+-------+-------------+-------------------+--------+---+\n",
      "|Chicago|United States| Chicago Ohare Intl|     ORD|ORD|\n",
      "|Chicago|United States|Chicago Midway Intl|     MDW|MDW|\n",
      "+-------+-------------+-------------------+--------+---+\n",
      "\n"
     ]
    }
   ],
   "source": [
    "#filter all airports in Chicago\n",
    "graph.vertices.filter(\"City='Chicago'\").show()"
   ]
  },
  {
   "cell_type": "code",
   "execution_count": 18,
   "metadata": {},
   "outputs": [
    {
     "name": "stdout",
     "output_type": "stream",
     "text": [
      "+---------+------+----+--------+----+-----+-------+-------+--------+-----------------+-------+---+---+\n",
      "|FlightNum|Origin|Dest|Distance|Year|Month|DepTime|ArrTime|DepDelay|ActualElapsedTime|AirTime|src|dst|\n",
      "+---------+------+----+--------+----+-----+-------+-------+--------+-----------------+-------+---+---+\n",
      "|     1226|   ORD| EWR|     719|2008|    1|   1711|   2031|      71|              140|    106|ORD|EWR|\n",
      "+---------+------+----+--------+----+-----+-------+-------+--------+-----------------+-------+---+---+\n",
      "\n"
     ]
    }
   ],
   "source": [
    "#filter all flights from Chicago O'Hare\n",
    "graph.edges.filter(\"Origin='ORD'\").show()"
   ]
  },
  {
   "cell_type": "code",
   "execution_count": 19,
   "metadata": {},
   "outputs": [
    {
     "name": "stdout",
     "output_type": "stream",
     "text": [
      "+---------+------+----+--------+----+-----+-------+-------+--------+-----------------+-------+---+---+\n",
      "|FlightNum|Origin|Dest|Distance|Year|Month|DepTime|ArrTime|DepDelay|ActualElapsedTime|AirTime|src|dst|\n",
      "+---------+------+----+--------+----+-----+-------+-------+--------+-----------------+-------+---+---+\n",
      "|     3423|   PVD| LAS|    2363|2008|    1|    747|   1019|      17|              332|    318|PVD|LAS|\n",
      "|      416|   LAS| PVD|    2363|2008|    1|   1630|     23|      30|              293|    266|LAS|PVD|\n",
      "|     2719|   MHT| LAS|    2356|2008|    1|    754|   1028|      69|              334|    320|MHT|LAS|\n",
      "|      767|   LAS| MHT|    2356|2008|    1|   1703|     33|      18|              270|    257|LAS|MHT|\n",
      "|     3655|   BDL| LAS|    2298|2008|    1|    706|    947|       6|              341|    325|BDL|LAS|\n",
      "|     1018|   LAS| BDL|    2298|2008|    1|   1739|    114|      59|              275|    253|LAS|BDL|\n",
      "|      257|   SAN| BWI|    2295|2008|    1|    714|   1451|      -1|              277|    264|SAN|BWI|\n",
      "|     1320|   BWI| SAN|    2295|2008|    1|   1847|   2118|       7|              331|    320|BWI|SAN|\n",
      "|     3144|   LAS| ISP|    2283|2008|    1|   1602|   2357|      52|              295|    269|LAS|ISP|\n",
      "|      550|   ISP| LAS|    2283|2008|    1|    734|    958|       4|              324|    314|ISP|LAS|\n",
      "|     1033|   MHT| PHX|    2279|2008|    1|   1652|   2030|      17|              338|    320|MHT|PHX|\n",
      "|     3598|   PHX| MHT|    2279|2008|    1|   1157|   1841|      12|              284|    258|PHX|MHT|\n",
      "|     3061|   PVD| PHX|    2277|2008|    1|   1636|   2013|      26|              337|    324|PVD|PHX|\n",
      "|     2452|   PHX| PVD|    2277|2008|    1|    919|   1555|      -1|              276|    263|PHX|PVD|\n",
      "|      302|   LAS| ALB|    2237|2008|    1|   1832|    148|      97|              256|    243|LAS|ALB|\n",
      "|     3237|   ALB| LAS|    2237|2008|    1|   1136|   1404|       1|              328|    317|ALB|LAS|\n",
      "|      784|   PHL| LAS|    2176|2008|    1|    933|   1151|      -2|              318|    298|PHL|LAS|\n",
      "|     1285|   LAS| PHL|    2176|2008|    1|   1127|   1856|      42|              269|    245|LAS|PHL|\n",
      "|     2363|   ORF| LAS|    2155|2008|    1|   1314|   1538|      64|              324|    308|ORF|LAS|\n",
      "|      156|   LAS| ORF|    2155|2008|    1|   1757|    108|      62|              251|    237|LAS|ORF|\n",
      "+---------+------+----+--------+----+-----+-------+-------+--------+-----------------+-------+---+---+\n",
      "only showing top 20 rows\n",
      "\n"
     ]
    }
   ],
   "source": [
    "#flights traveling distance beyond 2000 miles, drop duplicate origins and destinations\n",
    "graph.edges.filter(\"Distance > 2000\").dropDuplicates(['Origin','Dest']).orderBy('Distance',ascending=False).show()"
   ]
  },
  {
   "cell_type": "code",
   "execution_count": 20,
   "metadata": {},
   "outputs": [
    {
     "name": "stdout",
     "output_type": "stream",
     "text": [
      "+---+---+-------------+\n",
      "|src|dst|max(Distance)|\n",
      "+---+---+-------------+\n",
      "|PVD|LAS|         2363|\n",
      "|LAS|PVD|         2363|\n",
      "|MHT|LAS|         2356|\n",
      "|LAS|MHT|         2356|\n",
      "|BDL|LAS|         2298|\n",
      "|LAS|BDL|         2298|\n",
      "|SAN|BWI|         2295|\n",
      "|BWI|SAN|         2295|\n",
      "|LAS|ISP|         2283|\n",
      "|ISP|LAS|         2283|\n",
      "|PHX|MHT|         2279|\n",
      "|MHT|PHX|         2279|\n",
      "|PHX|PVD|         2277|\n",
      "|PVD|PHX|         2277|\n",
      "|LAS|ALB|         2237|\n",
      "|ALB|LAS|         2237|\n",
      "|PHL|LAS|         2176|\n",
      "|LAS|PHL|         2176|\n",
      "|LAS|ORF|         2155|\n",
      "|ORF|LAS|         2155|\n",
      "+---+---+-------------+\n",
      "only showing top 20 rows\n",
      "\n"
     ]
    }
   ],
   "source": [
    "#longest distance routes\n",
    "graph.edges.groupBy(\"src\", \"dst\").max(\"Distance\").orderBy(\"max(Distance)\", ascending =False).show()"
   ]
  },
  {
   "cell_type": "code",
   "execution_count": 21,
   "metadata": {},
   "outputs": [
    {
     "name": "stdout",
     "output_type": "stream",
     "text": [
      "+---+---+-----+\n",
      "|src|dst|count|\n",
      "+---+---+-----+\n",
      "|HOU|DAL|  762|\n",
      "|DAL|HOU|  752|\n",
      "|OAK|LAX|  562|\n",
      "|LAX|OAK|  554|\n",
      "|LAS|PHX|  516|\n",
      "|PHX|LAS|  512|\n",
      "|SAN|OAK|  496|\n",
      "|OAK|SAN|  491|\n",
      "|OAK|BUR|  466|\n",
      "|BUR|OAK|  449|\n",
      "+---+---+-----+\n",
      "only showing top 10 rows\n",
      "\n"
     ]
    }
   ],
   "source": [
    "# Most frequent flight routes \n",
    "flightRouteCount = graph.edges.groupBy(\"src\", \"dst\").count().orderBy(\"count\", ascending = False)\n",
    "\n",
    "flightRouteCount.show(10)"
   ]
  },
  {
   "cell_type": "code",
   "execution_count": 22,
   "metadata": {},
   "outputs": [
    {
     "name": "stdout",
     "output_type": "stream",
     "text": [
      "+---+---+------------------+\n",
      "|src|dst|     avg(DepDelay)|\n",
      "+---+---+------------------+\n",
      "|MDW|SFO| 78.71698113207547|\n",
      "|MDW|AUS|55.391304347826086|\n",
      "|MDW|BHM|47.851851851851855|\n",
      "|MDW|BDL| 45.88095238095238|\n",
      "|MDW|SAT|              44.5|\n",
      "+---+---+------------------+\n",
      "only showing top 5 rows\n",
      "\n"
     ]
    }
   ],
   "source": [
    "#What is the average delay for delayed flights departing from Chicago Midway?\n",
    "graph.edges.filter(\"src = 'MDW' and DepDelay > 1\").groupBy(\"src\", \"dst\").avg(\"DepDelay\").orderBy(\"avg(DepDelay)\", ascending=False).show(5)"
   ]
  },
  {
   "cell_type": "markdown",
   "metadata": {},
   "source": [
    "### Triangle Count \n",
    "\n",
    "Compute the number of triangles passing through each vertex."
   ]
  },
  {
   "cell_type": "code",
   "execution_count": 23,
   "metadata": {},
   "outputs": [
    {
     "name": "stdout",
     "output_type": "stream",
     "text": [
      "+-----+--------------+-------------+--------------------+--------+---+\n",
      "|count|          City|      Country|                Name|IATA/FAA| id|\n",
      "+-----+--------------+-------------+--------------------+--------+---+\n",
      "|  358|     Las Vegas|United States|      Mc Carran Intl|     LAS|LAS|\n",
      "|  300|       Chicago|United States| Chicago Midway Intl|     MDW|MDW|\n",
      "|  293|       Phoenix|United States|Phoenix Sky Harbo...|     PHX|PHX|\n",
      "|  230|     Baltimore|United States|Baltimore Washing...|     BWI|BWI|\n",
      "|  198|   Albuquerque|United States|Albuquerque Inter...|     ABQ|ABQ|\n",
      "|  188|   Kansas City|United States|    Kansas City Intl|     MCI|MCI|\n",
      "|  173|       Orlando|United States|        Orlando Intl|     MCO|MCO|\n",
      "|  172|       Houston|United States|     William P Hobby|     HOU|HOU|\n",
      "|  172|     Nashville|United States|      Nashville Intl|     BNA|BNA|\n",
      "|  167|         Tampa|United States|          Tampa Intl|     TPA|TPA|\n",
      "|  156|        Austin|United States|Austin Bergstrom ...|     AUS|AUS|\n",
      "|  152|     San Diego|United States|      San Diego Intl|     SAN|SAN|\n",
      "|  133|   San Antonio|United States|    San Antonio Intl|     SAT|SAT|\n",
      "|  114|     St. Louis|United States|Lambert St Louis ...|     STL|STL|\n",
      "|  108|       Ontario|United States|        Ontario Intl|     ONT|ONT|\n",
      "|  106|       Oakland|United States|Metropolitan Oakl...|     OAK|OAK|\n",
      "|  102|   Los Angeles|United States|    Los Angeles Intl|     LAX|LAX|\n",
      "|   91| Oklahoma City|United States|   Will Rogers World|     OKC|OKC|\n",
      "|   91|Salt Lake City|United States| Salt Lake City Intl|     SLC|SLC|\n",
      "|   90|   New Orleans|United States|Louis Armstrong N...|     MSY|MSY|\n",
      "+-----+--------------+-------------+--------------------+--------+---+\n",
      "only showing top 20 rows\n",
      "\n"
     ]
    }
   ],
   "source": [
    "#Computes the number of triangles passing through each vertex.\n",
    "graph.triangleCount().orderBy(\"count\", ascending=False).show()"
   ]
  },
  {
   "cell_type": "markdown",
   "metadata": {},
   "source": [
    "### PageRank\n",
    "\n",
    "Measure the importance of each vertex in a graph."
   ]
  },
  {
   "cell_type": "code",
   "execution_count": 24,
   "metadata": {},
   "outputs": [
    {
     "name": "stdout",
     "output_type": "stream",
     "text": [
      "+------------+-------------+--------------------+--------+---+------------------+\n",
      "|        City|      Country|                Name|IATA/FAA| id|          pagerank|\n",
      "+------------+-------------+--------------------+--------+---+------------------+\n",
      "|     Chicago|United States| Chicago Midway Intl|     MDW|MDW|23.553984004332065|\n",
      "|   Las Vegas|United States|      Mc Carran Intl|     LAS|LAS|22.668728471777207|\n",
      "|   Baltimore|United States|Baltimore Washing...|     BWI|BWI| 18.79579410407541|\n",
      "|     Phoenix|United States|Phoenix Sky Harbo...|     PHX|PHX|18.441418076081263|\n",
      "|     Houston|United States|     William P Hobby|     HOU|HOU| 14.73748376108117|\n",
      "|      Dallas|United States|     Dallas Love Fld|     DAL|DAL|14.072635152069376|\n",
      "|     Orlando|United States|        Orlando Intl|     MCO|MCO|13.078088528975796|\n",
      "|     Oakland|United States|Metropolitan Oakl...|     OAK|OAK|12.782949985589404|\n",
      "|   San Diego|United States|      San Diego Intl|     SAN|SAN|12.172420830031903|\n",
      "| Los Angeles|United States|    Los Angeles Intl|     LAX|LAX|11.116279162703394|\n",
      "|   Nashville|United States|      Nashville Intl|     BNA|BNA| 9.566654688153868|\n",
      "|       Tampa|United States|          Tampa Intl|     TPA|TPA| 9.553578700077859|\n",
      "|  Sacramento|United States|     Sacramento Intl|     SMF|SMF| 9.280873413414092|\n",
      "|   St. Louis|United States|Lambert St Louis ...|     STL|STL|    8.427114615782|\n",
      "| Kansas City|United States|    Kansas City Intl|     MCI|MCI|  8.38072633692853|\n",
      "|     Ontario|United States|        Ontario Intl|     ONT|ONT| 8.176368144253573|\n",
      "| Albuquerque|United States|Albuquerque Inter...|     ABQ|ABQ| 8.060926372642767|\n",
      "|    San Jose|United States|Norman Y Mineta S...|     SJC|SJC|  7.40137657496407|\n",
      "|Philadelphia|United States|   Philadelphia Intl|     PHL|PHL| 6.945970908630065|\n",
      "|      Austin|United States|Austin Bergstrom ...|     AUS|AUS| 6.452950701719762|\n",
      "+------------+-------------+--------------------+--------+---+------------------+\n",
      "only showing top 20 rows\n",
      "\n"
     ]
    }
   ],
   "source": [
    "#Run PageRank until convergence to tolerance \"tol\".\n",
    "results = graph.pageRank(resetProbability=0.15, tol= 0.01)\n",
    "results.vertices.orderBy('pagerank',ascending=False).show()"
   ]
  }
 ],
 "metadata": {
  "kernelspec": {
   "display_name": "Python 3 (ipykernel)",
   "language": "python",
   "name": "python3"
  },
  "language_info": {
   "codemirror_mode": {
    "name": "ipython",
    "version": 3
   },
   "file_extension": ".py",
   "mimetype": "text/x-python",
   "name": "python",
   "nbconvert_exporter": "python",
   "pygments_lexer": "ipython3",
   "version": "3.10.0"
  }
 },
 "nbformat": 4,
 "nbformat_minor": 2
}
